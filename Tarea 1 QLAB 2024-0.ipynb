{
 "cells": [
  {
   "cell_type": "markdown",
   "metadata": {},
   "source": [
    "# Tarea 1\n",
    "\n"
   ]
  },
  {
   "cell_type": "markdown",
   "metadata": {},
   "source": [
    "Fecha de entrega: \n",
    "Viernes 5 de enero, 2024, 11.59pm\n",
    "\n",
    "Comentarios generales:\n",
    "\n",
    "- No olvidar que python usa el snake_case (o minúsculas separadas por subguión) para llamar a sus variables. \n",
    "- No nombrar variables con acentos porque algunas veces, dependiendo de la máquina en la que se corra, esto será aceptado o no. \n",
    "- Leer  claramente qué es lo que pide la pregunta.  \n",
    "\n",
    "A continuación tienes 13 ejercicios. Para aprobar la tarea, solo necesitas hacer 10 de ellos.*   \n",
    "\n",
    "\n",
    "*Sin embargo, para poder practicar todos los temas de hoy, recomiendo hacer todos.\n",
    "\n"
   ]
  },
  {
   "cell_type": "markdown",
   "metadata": {
    "tags": []
   },
   "source": [
    "\n",
    "Ejemplo:  Utilizando sólo los siguientes inputs numéricos: ```5``` y ```2```  , maneje los operadores tal que el output sea ```120```. Crea una variable con el resultado. "
   ]
  },
  {
   "cell_type": "code",
   "execution_count": 1,
   "metadata": {
    "tags": []
   },
   "outputs": [
    {
     "data": {
      "text/plain": [
       "120"
      ]
     },
     "execution_count": 1,
     "metadata": {},
     "output_type": "execute_result"
    }
   ],
   "source": [
    "#Respuesta\n",
    "output = (5*2)**2 + 5*2**2\n",
    "output"
   ]
  },
  {
   "cell_type": "markdown",
   "metadata": {},
   "source": [
    "1.  Utilizando sólo los siguientes inputs: ```5``` y ```2```  , maneje los operadores tal que el output sea ```50```"
   ]
  },
  {
   "cell_type": "code",
   "execution_count": 2,
   "metadata": {},
   "outputs": [
    {
     "data": {
      "text/plain": [
       "50"
      ]
     },
     "execution_count": 2,
     "metadata": {},
     "output_type": "execute_result"
    }
   ],
   "source": [
    "#Tu respuesta\n",
    "output1=5**2+5**2\n",
    "output1"
   ]
  },
  {
   "cell_type": "markdown",
   "metadata": {},
   "source": [
    "2. Evalúa que el output del ejemplo sea mayor al output de 1. Crea una variable con esta evaluación (Hint: Será un booleano)."
   ]
  },
  {
   "cell_type": "code",
   "execution_count": 5,
   "metadata": {
    "tags": []
   },
   "outputs": [
    {
     "name": "stdout",
     "output_type": "stream",
     "text": [
      "True\n"
     ]
    }
   ],
   "source": [
    "# Tu respuesta\n",
    "variable=120 > 50\n",
    "print(variable)"
   ]
  },
  {
   "cell_type": "markdown",
   "metadata": {},
   "source": [
    "3. Utilizando sólo los siguientes inputs: ```31``` maneja los operadores tal que el output sea ```0```"
   ]
  },
  {
   "cell_type": "code",
   "execution_count": 6,
   "metadata": {},
   "outputs": [
    {
     "name": "stdout",
     "output_type": "stream",
     "text": [
      "0\n"
     ]
    }
   ],
   "source": [
    "#Tu respuesta\n",
    "output2=31-31\n",
    "print(output2)"
   ]
  },
  {
   "cell_type": "markdown",
   "metadata": {},
   "source": [
    "4.  Utilizando sólo los siguientes inputs: ```2``` (todos los 2 que necesites) maneja los operadores tal que el output sea ```5```"
   ]
  },
  {
   "cell_type": "code",
   "execution_count": 8,
   "metadata": {},
   "outputs": [
    {
     "name": "stdout",
     "output_type": "stream",
     "text": [
      "5.0\n"
     ]
    }
   ],
   "source": [
    "#Tu respuesta\n",
    "output3=2/2+2+2\n",
    "print(output3)"
   ]
  },
  {
   "cell_type": "markdown",
   "metadata": {},
   "source": [
    "5. Crea una variable ```x``` y una variable ```y``` que sumen 1600. Crea una variable ```v``` que dé un booleano, tal que evalúe que ```x + y``` sea igual a 2000."
   ]
  },
  {
   "cell_type": "code",
   "execution_count": 12,
   "metadata": {},
   "outputs": [
    {
     "name": "stdout",
     "output_type": "stream",
     "text": [
      "1600\n",
      "False\n"
     ]
    }
   ],
   "source": [
    "#Tu respuesta\n",
    "x=700\n",
    "y=900\n",
    "print(x+y)\n",
    "\n",
    "v=x+y==2000\n",
    "print(v)"
   ]
  },
  {
   "cell_type": "markdown",
   "metadata": {},
   "source": [
    "6. Cree una variable ```z``` y una variable ```a``` que sumen 1000."
   ]
  },
  {
   "cell_type": "code",
   "execution_count": 13,
   "metadata": {},
   "outputs": [
    {
     "name": "stdout",
     "output_type": "stream",
     "text": [
      "1000\n"
     ]
    }
   ],
   "source": [
    "#Tu respuesta\n",
    "z=600\n",
    "a=400\n",
    "print(z+a)"
   ]
  },
  {
   "cell_type": "markdown",
   "metadata": {},
   "source": [
    "7. Calcula cuántas horas trabajan en total los 130 congresistas de nuestro país en un año. Asume que trabajan 40 horas a la semana, por 48 semanas al año (considerando que tienen vacaciones y no trabajan sobretiempo). "
   ]
  },
  {
   "cell_type": "code",
   "execution_count": 17,
   "metadata": {},
   "outputs": [
    {
     "name": "stdout",
     "output_type": "stream",
     "text": [
      "249600\n"
     ]
    }
   ],
   "source": [
    "#Tu respuesta\n",
    "numero_horas_trabajo_congresistas=130*40*48\n",
    "print(numero_horas_trabajo_congresistas)"
   ]
  },
  {
   "cell_type": "markdown",
   "metadata": {},
   "source": [
    "8. Ahora calcula el salario de un congresista por hora. Los supuestos del anterior ejercicio se mantienen (Se puede pasar por alto las vacaciones). Cabe recordar que los congresistas ganan 15,600 soles mensuales.   \n",
    "- Crea una variable para el salario por hora de un congresista.   \n",
    "- Crea una variable para la suma de los salarios por hora de los 130 congresistas.\n"
   ]
  },
  {
   "cell_type": "code",
   "execution_count": 48,
   "metadata": {},
   "outputs": [
    {
     "name": "stdout",
     "output_type": "stream",
     "text": [
      "8.125\n"
     ]
    }
   ],
   "source": [
    "#Tu respuesta\n",
    "salario_congresista_por_hora=15600/(40*48)\n",
    "print(salario_congresista_por_hora)"
   ]
  },
  {
   "cell_type": "code",
   "execution_count": 49,
   "metadata": {},
   "outputs": [
    {
     "name": "stdout",
     "output_type": "stream",
     "text": [
      "1056.25\n"
     ]
    }
   ],
   "source": [
    "suma_salarios_por_hora_congresistas=130*8.125\n",
    "print(suma_salarios_por_hora_congresistas)"
   ]
  },
  {
   "cell_type": "markdown",
   "metadata": {},
   "source": [
    "9. Con la reducción del IGV para restaurantes y hoteles (https://emprender.sunat.gob.pe/tributando/temas-actualidad/reduccion-igv-para-restaurantes-hoteles), los restaurantes pagan el 10% de IGV. Un restaurante factura 3426 soles diarios, en promedio, después de impuestos. Calcule el valor base (el IGV es 10% sobre el valor base, ó 1 + .1).\n",
    "\n",
    "Calcule, utilizando el valor base, cuánto es el descuento del IGV en soles (o el 8% de este valor base).\n",
    "\n",
    "Cree una variable para cada uno de los siguientes:\n",
    "- porcentaje de IGV \n",
    "- el total de facturación\n",
    "- el monto del impuesto\n",
    "- el valor base sin impuesto\n",
    "- el descuento de IGV en soles. Puedes comprobar tu fórmula con cualquier recibo de pago que detalle el IGV. "
   ]
  },
  {
   "cell_type": "code",
   "execution_count": 56,
   "metadata": {
    "tags": []
   },
   "outputs": [
    {
     "name": "stdout",
     "output_type": "stream",
     "text": [
      "3114.5454545454545\n"
     ]
    }
   ],
   "source": [
    "#Tu respuesta\n",
    "\n",
    "#Calculando el valor base\n",
    "valor_base=3426/(1+.1)\n",
    "print(valor_base)"
   ]
  },
  {
   "cell_type": "code",
   "execution_count": 61,
   "metadata": {},
   "outputs": [
    {
     "name": "stdout",
     "output_type": "stream",
     "text": [
      "311.4545454545455\n"
     ]
    }
   ],
   "source": [
    "#Porcentaje de IGV\n",
    "porcentaje_igv=3114.5454545454545*0.10\n",
    "print(porcentaje_igv)"
   ]
  },
  {
   "cell_type": "code",
   "execution_count": 57,
   "metadata": {},
   "outputs": [
    {
     "name": "stdout",
     "output_type": "stream",
     "text": [
      "3426.0000000000005\n"
     ]
    }
   ],
   "source": [
    "#Total de facturación\n",
    "facturacion_total=3114.5454545454545*(1+0.10)\n",
    "print(facturacion_total)"
   ]
  },
  {
   "cell_type": "code",
   "execution_count": 58,
   "metadata": {},
   "outputs": [
    {
     "name": "stdout",
     "output_type": "stream",
     "text": [
      "311.45454545454595\n"
     ]
    }
   ],
   "source": [
    "#Monto del impuesto\n",
    "monto_impuesto=3426.0000000000005-3114.5454545454545\n",
    "print(monto_impuesto)"
   ]
  },
  {
   "cell_type": "code",
   "execution_count": 63,
   "metadata": {},
   "outputs": [
    {
     "name": "stdout",
     "output_type": "stream",
     "text": [
      "249.16363636363636\n"
     ]
    }
   ],
   "source": [
    "#Descuento de IGV en soles\n",
    "descuento_igvsoles=0.08*3114.5454545454545\n",
    "print(descuento_igvsoles)"
   ]
  },
  {
   "cell_type": "markdown",
   "metadata": {},
   "source": [
    "10.  Cristina percibe el sueldo mínimo (1025 soles). Compruebe que el salario anual de Cristina es menor al salario anual de un congresista, usando operadores de comparación y una expresión que detalle el monto mensual y el número de meses trabajados de ambos. La comparación debe ser ser evaluada a un booleano"
   ]
  },
  {
   "cell_type": "code",
   "execution_count": 64,
   "metadata": {},
   "outputs": [
    {
     "name": "stdout",
     "output_type": "stream",
     "text": [
      "12300\n"
     ]
    }
   ],
   "source": [
    "#Tu respuesta\n",
    "salario_cristina_anual=1025*12\n",
    "print(salario_cristina_anual)"
   ]
  },
  {
   "cell_type": "code",
   "execution_count": 65,
   "metadata": {},
   "outputs": [
    {
     "name": "stdout",
     "output_type": "stream",
     "text": [
      "187200\n"
     ]
    }
   ],
   "source": [
    "salario_congresista_anual=15600*12\n",
    "print(salario_congresista_anual)"
   ]
  },
  {
   "cell_type": "code",
   "execution_count": 66,
   "metadata": {},
   "outputs": [
    {
     "data": {
      "text/plain": [
       "True"
      ]
     },
     "execution_count": 66,
     "metadata": {},
     "output_type": "execute_result"
    }
   ],
   "source": [
    "1025*12<15600*12"
   ]
  },
  {
   "cell_type": "markdown",
   "metadata": {},
   "source": [
    "11. Una conocida petrolera debe volver a compensar a  1023 familias que se dedican a la pesca por la contaminación causada en el mar donde pescan. El nuevo monto negociado es de 1200 millones de soles, sin embargo, una cláusula del contrato dice que el monto de compensación tiene que ser un número entero. ¿Cuántos soles adicionales se le  tiene  que agregar al monto negociado para que las familias reciban una cantidad entera,  asumiendo que para lograr este número entero, hay que elevar el monto total? (Pista: Acuérdate del  floor y el módulo)."
   ]
  },
  {
   "cell_type": "code",
   "execution_count": 55,
   "metadata": {
    "tags": []
   },
   "outputs": [],
   "source": [
    "#Tu respuesta\n"
   ]
  },
  {
   "cell_type": "markdown",
   "metadata": {},
   "source": [
    "12. Crea una variable igual a una lista que contenga:\n",
    "- un string,\n",
    "- un booleano,\n",
    "- dos valores numéricos (de cualquier tipo) y\n",
    "- una lista de dos strings con el nombre de tus artistas musicales favoritos. \n"
   ]
  },
  {
   "cell_type": "code",
   "execution_count": 28,
   "metadata": {},
   "outputs": [
    {
     "name": "stdout",
     "output_type": "stream",
     "text": [
      "['hola como estas', True, 17, 3.42, ['Mon Laferte', 'Jon Bon Jovi']]\n"
     ]
    }
   ],
   "source": [
    "lista1 = [\"hola como estas\",True,17,3.42,[\"Mon Laferte\",\"Jon Bon Jovi\"]]\n",
    "print(lista1)\n"
   ]
  },
  {
   "cell_type": "markdown",
   "metadata": {},
   "source": [
    "13. Tenemos la siguiente lista de cursos: "
   ]
  },
  {
   "cell_type": "code",
   "execution_count": 31,
   "metadata": {},
   "outputs": [],
   "source": [
    "cursos = [\"Historia\", \"Economia\", \"Antropologia\", \"RSP\", \"Derecho\"]"
   ]
  },
  {
   "cell_type": "markdown",
   "metadata": {},
   "source": [
    "Realiza las siguientes operaciones en bloques diferentes: \n",
    "- Calcula cuántos elementos tiene la lista.\n"
   ]
  },
  {
   "cell_type": "code",
   "execution_count": 32,
   "metadata": {},
   "outputs": [
    {
     "name": "stdout",
     "output_type": "stream",
     "text": [
      "5\n"
     ]
    }
   ],
   "source": [
    "#Tu respuesta\n",
    "numero_cursos = len(cursos)\n",
    "print(numero_cursos)\n"
   ]
  },
  {
   "cell_type": "markdown",
   "metadata": {},
   "source": [
    "13.1. Agrega tres cursos adicionales de 3 formas diferentes (uno por forma):\n",
    "   - Suma (+) una lista que contenga un curso adicional. \n",
    "   - Usa el append. \n",
    "   - Usa el extend. \n"
   ]
  },
  {
   "cell_type": "code",
   "execution_count": 42,
   "metadata": {},
   "outputs": [
    {
     "data": {
      "text/plain": [
       "['Historia',\n",
       " 'Economia',\n",
       " 'Antropologia',\n",
       " 'RSP',\n",
       " 'Derecho',\n",
       " 'Elementos de Ciencia Política']"
      ]
     },
     "execution_count": 42,
     "metadata": {},
     "output_type": "execute_result"
    }
   ],
   "source": [
    "#Tu respuesta\n",
    "cursos = [\"Historia\", \"Economia\", \"Antropologia\", \"RSP\", \"Derecho\"]\n",
    "cursomas=[\"Elementos de Ciencia Política\"]\n",
    "\n",
    "cursos+cursomas\n"
   ]
  },
  {
   "cell_type": "code",
   "execution_count": 43,
   "metadata": {},
   "outputs": [
    {
     "data": {
      "text/plain": [
       "['Historia', 'Economia', 'Antropologia', 'RSP', 'Derecho', 'Ética']"
      ]
     },
     "execution_count": 43,
     "metadata": {},
     "output_type": "execute_result"
    }
   ],
   "source": [
    "cursos.append(\"Ética\")\n",
    "cursos"
   ]
  },
  {
   "cell_type": "code",
   "execution_count": 44,
   "metadata": {},
   "outputs": [
    {
     "data": {
      "text/plain": [
       "['Historia',\n",
       " 'Economia',\n",
       " 'Antropologia',\n",
       " 'RSP',\n",
       " 'Derecho',\n",
       " 'Ética',\n",
       " 'Lógica',\n",
       " 'Epistemología']"
      ]
     },
     "execution_count": 44,
     "metadata": {},
     "output_type": "execute_result"
    }
   ],
   "source": [
    "mas_cursos = ['Lógica', 'Epistemología']\n",
    "cursos_copy = cursos[:]\n",
    "cursos_copy.extend(mas_cursos)\n",
    "cursos_copy"
   ]
  },
  {
   "cell_type": "markdown",
   "metadata": {},
   "source": [
    "13.2. \n",
    "- Usa la indexación para señalar a _RSP_.\n"
   ]
  },
  {
   "cell_type": "code",
   "execution_count": 40,
   "metadata": {},
   "outputs": [
    {
     "name": "stdout",
     "output_type": "stream",
     "text": [
      "RSP\n"
     ]
    }
   ],
   "source": [
    "#Tu respuesta\n",
    "cursoRSP = cursos[3]\n",
    "print(cursoRSP)\n"
   ]
  },
  {
   "cell_type": "markdown",
   "metadata": {},
   "source": [
    "13.3.\n",
    "- Remueve el curso que menos te guste de la lista.\n"
   ]
  },
  {
   "cell_type": "code",
   "execution_count": 12,
   "metadata": {},
   "outputs": [
    {
     "data": {
      "text/plain": [
       "'Antropologia'"
      ]
     },
     "execution_count": 12,
     "metadata": {},
     "output_type": "execute_result"
    }
   ],
   "source": [
    "#Tu respuesta\n",
    "\n",
    "cursos[-4]"
   ]
  },
  {
   "cell_type": "markdown",
   "metadata": {},
   "source": [
    "13.4.\n",
    "  - Invierte la lista."
   ]
  },
  {
   "cell_type": "code",
   "execution_count": 13,
   "metadata": {},
   "outputs": [
    {
     "data": {
      "text/plain": [
       "['Ética', 'Derecho', 'RSP', 'Antropologia', 'Economia', 'Historia']"
      ]
     },
     "execution_count": 13,
     "metadata": {},
     "output_type": "execute_result"
    }
   ],
   "source": [
    "#Tu respuesta\n",
    "\n",
    "cursos.reverse()\n",
    "cursos"
   ]
  },
  {
   "cell_type": "markdown",
   "metadata": {},
   "source": [
    "13.5   \n",
    "Tenemos los siguientes números: 30, 24, 54.2, 15.8, 145, 90, 100.\n",
    " - Crea una lista con ellos. \n",
    " - Ordena la lista de menor a mayor.\n",
    " - Saca el promedio de los números de la lista.  \n",
    "(Realiza cada uno en bloques separados)."
   ]
  },
  {
   "cell_type": "code",
   "execution_count": 45,
   "metadata": {},
   "outputs": [
    {
     "name": "stdout",
     "output_type": "stream",
     "text": [
      "[30, 24, 54, 15.8, 145, 90, 100]\n"
     ]
    }
   ],
   "source": [
    "#Tu respuesta\n",
    "\n",
    "#Una lista con los números\n",
    "\n",
    "lista1=[30,24,54,15.8,145,90,100]\n",
    "print(lista1)\n"
   ]
  },
  {
   "cell_type": "code",
   "execution_count": 46,
   "metadata": {},
   "outputs": [
    {
     "data": {
      "text/plain": [
       "[15.8, 24, 30, 54, 90, 100, 145]"
      ]
     },
     "execution_count": 46,
     "metadata": {},
     "output_type": "execute_result"
    }
   ],
   "source": [
    "lista1.sort()\n",
    "lista1"
   ]
  },
  {
   "cell_type": "code",
   "execution_count": 47,
   "metadata": {},
   "outputs": [
    {
     "data": {
      "text/plain": [
       "65.57142857142857"
      ]
     },
     "execution_count": 47,
     "metadata": {},
     "output_type": "execute_result"
    }
   ],
   "source": [
    "promedio=(30+24+54.2+15.8+145+90+100)/7\n",
    "promedio"
   ]
  },
  {
   "cell_type": "code",
   "execution_count": null,
   "metadata": {},
   "outputs": [],
   "source": []
  }
 ],
 "metadata": {
  "kernelspec": {
   "display_name": "Python 3 (ipykernel)",
   "language": "python",
   "name": "python3"
  },
  "language_info": {
   "codemirror_mode": {
    "name": "ipython",
    "version": 3
   },
   "file_extension": ".py",
   "mimetype": "text/x-python",
   "name": "python",
   "nbconvert_exporter": "python",
   "pygments_lexer": "ipython3",
   "version": "3.11.5"
  }
 },
 "nbformat": 4,
 "nbformat_minor": 4
}
