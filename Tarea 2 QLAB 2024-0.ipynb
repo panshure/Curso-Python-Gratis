{
 "cells": [
  {
   "cell_type": "markdown",
   "metadata": {},
   "source": [
    "# Tarea 2\n",
    "\n",
    "Hora de entrega: Domingo 7, 11.59pm\n",
    "\n",
    "Nombrar al archivo de la siguiente manera: Apellido_código.  \n",
    "Ejemplo:  Solis_20060983\n",
    "\n",
    "Entregar la tarea en esta plantilla, no usar una adicional a esta. \n",
    "\n",
    "\n",
    "* Escriba un docstring para las funciones que aún no lo tienen"
   ]
  },
  {
   "cell_type": "markdown",
   "metadata": {},
   "source": [
    "### 1. Github \n",
    "1. Escribe el link de tu rama dentro del proyecto https://github.com/ccsuehara/letras_2024. La letra de tu canción tiene que figurar. Esto demuestra que has podido crear la rama, hacer un commit y subir tu letra.\n",
    "2. Confirma que has hecho el pull request (solicitud de incorporación). Verificaré que haya habido un pull request (acuérdate que sólo yo puedo hacer el merge pull, o fusionar el pull a la rama main).  \n",
    "3. Escribe el link del repo creado para el proyecto final. El repo debe incluir un commit que incluya un README.md. Un archivo md se crea en cualquier editor de texto, agregando sólo la terminación .md al nombre. Haz el repo público en caso sea privado.\n",
    "\n",
    "(En caso terminaste este ejercicio en clase, enhorabuena! Sólo envíame lo pedido líneas arriba). \n"
   ]
  },
  {
   "cell_type": "markdown",
   "metadata": {},
   "source": [
    "### Tus respuestas aquí: \n",
    "1. \n",
    "2. \n",
    "3. \n"
   ]
  },
  {
   "cell_type": "markdown",
   "metadata": {},
   "source": [
    "2. Escribe una función que toma dos parámetros numéricos, `a` y `b`, y resta ambos números, de tal forma que `c = a - b`. Expresa `c` como el valor a retornar.  \n",
    "Pista: Este ejercicio es el mismo que hicimos durante la clase."
   ]
  },
  {
   "cell_type": "code",
   "execution_count": null,
   "metadata": {},
   "outputs": [],
   "source": [
    "def resta_numeros(a,b):\n",
    "    '''\n",
    "    resta dos números\n",
    "    input:\n",
    "        a: numeric\n",
    "        b: numeric\n",
    "    output:\n",
    "        c: numeric\n",
    "    '''\n",
    "    c = a - b\n",
    "    return c\n"
   ]
  },
  {
   "cell_type": "markdown",
   "metadata": {},
   "source": [
    "3. Escribe una función que transforme la temperatura de grados celsius a grados fahrenheit. La fórmula es:    \n",
    "$F = 1.8*C + 32$"
   ]
  },
  {
   "cell_type": "code",
   "execution_count": null,
   "metadata": {},
   "outputs": [],
   "source": [
    "def celsius_a_fahrenheit(temp_c):\n",
    "    '''\n",
    "    transforma temperatura de celsius a fahrenheit\n",
    "    Input: \n",
    "        temp_c:número float\n",
    "    Ouput: \n",
    "        retorna: número float\n",
    "    '''\n",
    "    \n",
    "    temp_f = 1.8*temp_c + 32\n",
    "    \n",
    "    return temp_f "
   ]
  },
  {
   "cell_type": "markdown",
   "metadata": {},
   "source": [
    "4. Escribe una función que dé el resultado de una división de dos números, sin embargo, el resultado debe ser un número mixto. \n",
    "\n",
    "Los números mixtos son una representación que tiene una parte entera y una parte menor a la unidad. Por ejemplo, $50 / 7$ es representado de la siguiente manera:\n",
    "$\n",
    "  7\\frac{1}{7}\n",
    "$  \n",
    "\n",
    "Otro ejemplo: $23 / 4$ sería \n",
    "$\n",
    "  5\\frac{3}{4}\n",
    "$  \n",
    "\n",
    "La función toma 2 argumentos: primero, el número a dividir, y segundo, el divisor. \n",
    "\n",
    "La función retorna una lista con 3 elementos: el número entero, el numerador de la fracción y el denominador de la fracción. \n",
    "\n",
    "Por ejemplo, ``` numero_mixto(23,4)``` da como resultado ```[5, 3, 4] ```. \n",
    "\n",
    "``` numero_mixto(24,4)``` da como resultado ```[6, 0, 4] ```. \n",
    "\n",
    "Pista: floor y módulo"
   ]
  },
  {
   "cell_type": "code",
   "execution_count": null,
   "metadata": {},
   "outputs": [],
   "source": [
    "def numero_mixto(num, den):\n",
    "    '''\n",
    "    Convierte división en número mixto\n",
    "    Input: \n",
    "        num: número entero\n",
    "        den: número entero\n",
    "    Ouput: \n",
    "        retorna: lista con 3 números\n",
    "    '''\n",
    "    \n",
    "    #Escribe aquí tu función \n",
    "    \n",
    "    a = num // den\n",
    "    b = num % den  \n",
    "    c = den\n",
    "    \n",
    "    lst_result = [a,b,c]\n",
    "    \n",
    "    return lst_result\n",
    "    \n",
    "    "
   ]
  },
  {
   "cell_type": "markdown",
   "metadata": {},
   "source": [
    "5. Escriba una función sin parámetros y que no retorne nada, pero que haga print de un mensaje que comunique cuál es tu comida favorita o el nombre de tu mascota. \n",
    "Pista: para este ejercicio, revisa la sección de \"Funciones sin parámetros\" del notebook de Funciones."
   ]
  },
  {
   "cell_type": "code",
   "execution_count": null,
   "metadata": {},
   "outputs": [],
   "source": [
    "\n",
    "def mascota():\n",
    "    '''\n",
    "    print de string con nombre de mascota, no retorna nada\n",
    "    '''\n",
    "    print(\"Vivo con tres perros: Mayonesa, Milko y Luna\")"
   ]
  },
  {
   "cell_type": "markdown",
   "metadata": {},
   "source": [
    "6. Escribe un diccionario con el horario GMT de las siguientes ciudades:\n",
    "- Antananarivo, Madagascar, \n",
    "- Beirut, Líbano, \n",
    "- Jakarta, Indonesia, \n",
    "- Teherán, Irán, \n",
    "- Vientiane, Laos, \n",
    "\n",
    "\n",
    "\n",
    "Pista: Lima sería: `\"Lima\": -5`"
   ]
  },
  {
   "cell_type": "code",
   "execution_count": null,
   "metadata": {},
   "outputs": [],
   "source": [
    "hora_gmt = {\"Antananarivo\": 3 ,\n",
    "           \"Beirut\": 2, \n",
    "           \"Jakarta\": 7,\n",
    "           \"Teheran\": 3.5, \n",
    "           \"Vientiane\": 7 }"
   ]
  },
  {
   "cell_type": "markdown",
   "metadata": {},
   "source": [
    "7. Agrega las siguientes ciudades al diccionario:\n",
    "- Astana, Kazajstán,\n",
    "- Uagadugú, Burkina Faso,\n",
    "- Balmopan, Belice"
   ]
  },
  {
   "cell_type": "code",
   "execution_count": null,
   "metadata": {},
   "outputs": [],
   "source": [
    "# tu respuesta aquí\n",
    "hora_gmt['Astana'] = 6\n",
    "hora_gmt['Uagadugu'] = 0\n",
    "hora_gmt['Balmopan'] = -6"
   ]
  }
 ],
 "metadata": {
  "kernelspec": {
   "display_name": "Python 3 (ipykernel)",
   "language": "python",
   "name": "python3"
  },
  "language_info": {
   "codemirror_mode": {
    "name": "ipython",
    "version": 3
   },
   "file_extension": ".py",
   "mimetype": "text/x-python",
   "name": "python",
   "nbconvert_exporter": "python",
   "pygments_lexer": "ipython3",
   "version": "3.11.7"
  }
 },
 "nbformat": 4,
 "nbformat_minor": 4
}
