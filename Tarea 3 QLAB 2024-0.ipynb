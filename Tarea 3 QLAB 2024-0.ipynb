{
 "cells": [
  {
   "cell_type": "markdown",
   "metadata": {},
   "source": [
    "# Tarea 3\n",
    "\n",
    "Hora de entrega: Martes 9 de enero 23:59pm\n",
    "\n",
    "Entregar la tarea en esta plantilla, no usar una adicional a esta. \n",
    "\n",
    "\n",
    "* Escriba un docstring para las funciones que aún no lo tienen\n",
    "\n",
    "Elige 4 de los siguientes 7 ejercicios para aprobar."
   ]
  },
  {
   "cell_type": "markdown",
   "metadata": {},
   "source": [
    "1.   \n",
    "\n",
    "a. Haz un for-loop que vaya del 22 al 42, pero que sólo tome los elementos impares. Imprime (print) cada uno de los elementos mientras vas iterando por ellos. Pista: Puedes usar rangos. \n",
    "\n",
    "b. Modifica tu programa para que, a medida que vayas iterando por los elementos, vayas sumando estos en una variable llamada total_suma, definida antes que el loop empiece. Utiliza un operador de asignación aumentada."
   ]
  },
  {
   "cell_type": "code",
   "execution_count": 100,
   "metadata": {},
   "outputs": [
    {
     "name": "stdout",
     "output_type": "stream",
     "text": [
      "23\n",
      "25\n",
      "27\n",
      "29\n",
      "31\n",
      "33\n",
      "35\n",
      "37\n",
      "39\n",
      "41\n"
     ]
    }
   ],
   "source": [
    "#a:  tu respuesta aquí\n",
    "for elemento in range(22, 43):\n",
    "    if elemento % 2 != 0:\n",
    "        print(elemento)"
   ]
  },
  {
   "cell_type": "code",
   "execution_count": 101,
   "metadata": {},
   "outputs": [
    {
     "name": "stdout",
     "output_type": "stream",
     "text": [
      "320\n"
     ]
    }
   ],
   "source": [
    "#b: tu respuesta aquí\n",
    "total_suma = 0\n",
    "\n",
    "for elemento in range(22, 43):\n",
    "    if elemento % 2 != 0:\n",
    "        total_suma += elemento\n",
    "\n",
    "print(total_suma)"
   ]
  },
  {
   "cell_type": "markdown",
   "metadata": {},
   "source": [
    "2. \n",
    "\n",
    "2.1. Escribe una función que tome como input una lista de números y calcule su promedio. \n",
    "\n",
    "2.2. Escribe una función que tome como input un diccionario, y que almacene en una lista a todos sus valores.  \n",
    "Es decir. Si el diccionario es el de la clase: \n",
    "`ejem_dict =  {\"Juana\": \"gallina\", \"Martin\": \"gato\", \"Carla\": \"conejo\", \"Cristina\": \"gato\", \"Diego\": \"perro\" } `\n",
    "Queremos un diccionario = `[\"gallina\", \"gato\", \"conejo\",\"gato\", \"perro\"]`\n"
   ]
  },
  {
   "cell_type": "code",
   "execution_count": 102,
   "metadata": {},
   "outputs": [
    {
     "name": "stdout",
     "output_type": "stream",
     "text": [
      "37.5\n"
     ]
    }
   ],
   "source": [
    "#2.1: tu respuesta aquí\n",
    "\n",
    "def calculo_promedio(lista_numeros):\n",
    "    '''\n",
    "    Suma una lista de numeros y retorna su promedio:\n",
    "    \n",
    "    Input:\n",
    "        lista: lista de numeros\n",
    "    Output:\n",
    "        float: promedio de los numeros de la lista\n",
    "    '''\n",
    "\n",
    "    total_suma = sum(lista_numeros)\n",
    "    cantidad_elementos = len(lista_numeros)\n",
    "    promedio = total_suma / cantidad_elementos\n",
    "    return promedio\n",
    "\n",
    "lista1 = [15, 30, 45, 60]\n",
    "\n",
    "valor_promedio = calculo_promedio(lista1)\n",
    "\n",
    "print(valor_promedio)"
   ]
  },
  {
   "cell_type": "code",
   "execution_count": 103,
   "metadata": {},
   "outputs": [
    {
     "name": "stdout",
     "output_type": "stream",
     "text": [
      "['gallina', 'gato', 'conejo', 'gato', 'perro']\n"
     ]
    }
   ],
   "source": [
    "#2.2: tu respuesta aquí\n",
    "\n",
    "def valores_solo_lista(diccionario):\n",
    "    '''\n",
    "    Toma un diccionario como input y devuelve una lista con todos sus valores.\n",
    "\n",
    "    Input:\n",
    "        diccionario: dict, el diccionario seleccionado\n",
    "    Output:\n",
    "        list, lista con los valores del diccionario\n",
    "    '''\n",
    "    valores = list(diccionario.values())\n",
    "    return valores\n",
    "\n",
    "ejem_dict = {\"Juana\": \"gallina\", \"Martin\": \"gato\", \"Carla\": \"conejo\", \"Cristina\": \"gato\", \"Diego\": \"perro\"}\n",
    "lista2 = valores_solo_lista(ejem_dict)\n",
    "\n",
    "print(lista2)"
   ]
  },
  {
   "cell_type": "markdown",
   "metadata": {},
   "source": [
    "3. Escribe una función que tome como input una lista de números y los sume. En caso la suma total sea menor a 100, imprime un mensaje diciendo \"Monto faltante para 100:\" x . x es igual a la resta de 100 respecto a la suma total. \n",
    "En caso la suma total sea mayor a 100, el valor retornado será dicha suma total. \n"
   ]
  },
  {
   "cell_type": "code",
   "execution_count": 104,
   "metadata": {},
   "outputs": [
    {
     "name": "stdout",
     "output_type": "stream",
     "text": [
      "130\n"
     ]
    }
   ],
   "source": [
    "def suma_lista(lista_numeros):\n",
    "    '''\n",
    "    Suma una lista de numeros y retorna un resultado condicional:\n",
    "\n",
    "    Input: \n",
    "        lista_numeros: lista de números\n",
    "    Ouput: \n",
    "        - Si es menor a 100: nada, solo un print\n",
    "        - Si es mayor a 100: un número\n",
    "    '''\n",
    "    total_suma = sum(lista_numeros)\n",
    "\n",
    "    # En caso la suma total sea menor a 100\n",
    "    if total_suma < 100:\n",
    "        x = 100 - total_suma\n",
    "        print(f'Monto faltante para 100: x')\n",
    "        return x\n",
    "    #En caso la suma total sea mayor a 100\n",
    "    else: total_suma > 100\n",
    "    return total_suma\n",
    "\n",
    "lista3 = [10, 25, 40, 55]\n",
    "result = suma_lista(lista3)\n",
    "\n",
    "print(result)\n"
   ]
  },
  {
   "cell_type": "markdown",
   "metadata": {},
   "source": [
    "4. Escribe un while loop que empieza en 1 y termina en 100, pero en cada loop, el contador i va creciendo +=2. \n",
    "\n",
    "\n"
   ]
  },
  {
   "cell_type": "code",
   "execution_count": 105,
   "metadata": {},
   "outputs": [
    {
     "name": "stdout",
     "output_type": "stream",
     "text": [
      "1\n",
      "3\n",
      "5\n",
      "7\n",
      "9\n",
      "11\n",
      "13\n",
      "15\n",
      "17\n",
      "19\n",
      "21\n",
      "23\n",
      "25\n",
      "27\n",
      "29\n",
      "31\n",
      "33\n",
      "35\n",
      "37\n",
      "39\n",
      "41\n",
      "43\n",
      "45\n",
      "47\n",
      "49\n",
      "51\n",
      "53\n",
      "55\n",
      "57\n",
      "59\n",
      "61\n",
      "63\n",
      "65\n",
      "67\n",
      "69\n",
      "71\n",
      "73\n",
      "75\n",
      "77\n",
      "79\n",
      "81\n",
      "83\n",
      "85\n",
      "87\n",
      "89\n",
      "91\n",
      "93\n",
      "95\n",
      "97\n",
      "99\n"
     ]
    }
   ],
   "source": [
    "# tu respuesta aquí\n",
    "i = 1\n",
    "N=100\n",
    "\n",
    "while i <=N:\n",
    "    print(i)\n",
    "    i += 2"
   ]
  },
  {
   "cell_type": "markdown",
   "metadata": {},
   "source": [
    "5. Escribe una función que convierta la hora de Lima (GMT -5)  en 4 posibles horas: \n",
    "- Hora Vanuatu (GMT +11)  \n",
    "- Hora Dominica (GMT - 4)\n",
    "- Hora Abuja, Nigeria (GMT +1)\n",
    "- Hora Beijing, China  (GMT +8)  \n",
    "(Podemos usar un diccionario dentro de la función, para encontrar los pares ciudad-hora más fácilmente).\n",
    "\n",
    "Asumamos que solo usaremos horas enteras. \n",
    "La función debe tener 2 parámetros: \n",
    "- la hora de Lima que queremos convertir(entero). \n",
    "- la ciudad (string) a la que queremos convertir la hora.\n",
    "\n",
    "La función debe retornar la hora (de 0 a 24 horas) como un número (puede ser un float que termine en .0). Ojo que hay que manejar el caso cuando la suma da más de 24 horas (Pista: %). \n",
    "Ojo 2: Hay casos en los que la hora puede resultar negativa (Pista: Verlo como una resta)"
   ]
  },
  {
   "cell_type": "code",
   "execution_count": 106,
   "metadata": {},
   "outputs": [
    {
     "name": "stdout",
     "output_type": "stream",
     "text": [
      "9\n"
     ]
    }
   ],
   "source": [
    "# tu respuesta aquí\n",
    "def conversion_hora_lima(hora_lima, ciudad):\n",
    "    diferencia_horas = {\"Vanuatu\": 16,\"Dominica\": -9,\"Abuja, Nigeria\": 6,\"Beijing, China\": 13}\n",
    "\n",
    "    if ciudad in diferencia_horas:\n",
    "        hora_nacional = (hora_lima + diferencia_horas[ciudad]) % 24\n",
    "        return hora_nacional\n",
    "    else:\n",
    "        return \"No se encuentra la ciudad en la lista\"\n",
    "\n",
    "hora_convertida = conversion_hora_lima(17, \"Vanuatu\")\n",
    "print(hora_convertida)\n"
   ]
  },
  {
   "cell_type": "markdown",
   "metadata": {},
   "source": [
    "\n",
    "\n",
    "6. Adapta el juego de dados de la clase de control de flujos para que pueda aceptar cuantas simulaciones se requiera, mediante la adaptación del código a una función. El input será un el número de simulaciones que queremos. El output será un float con la probabilidad de obtener 7 sobre la probabilidad de obtener 11. Puedes llamar a la función con el nombre que más gustes. \n",
    "\n",
    "Abajo el código. "
   ]
  },
  {
   "cell_type": "code",
   "execution_count": null,
   "metadata": {},
   "outputs": [],
   "source": [
    "sims = 100\n",
    "\n",
    "es_7 = 0\n",
    "es_11 = 0\n",
    "\n",
    "for i in range(sims):\n",
    "    suma_dados = random.randint(1,6) + random.randint(1,6)\n",
    "    if suma_dados == 7:\n",
    "        es_7 +=1\n",
    "    elif suma_dados == 11:\n",
    "        es_11 += 1"
   ]
  },
  {
   "cell_type": "code",
   "execution_count": 108,
   "metadata": {},
   "outputs": [
    {
     "name": "stdout",
     "output_type": "stream",
     "text": [
      "4.4\n"
     ]
    }
   ],
   "source": [
    "#tu respuesta\n",
    "import random\n",
    "\n",
    "def calculo_probabilidades(cantidad_simulaciones):\n",
    "    es_7 = 0\n",
    "    es_11 = 0\n",
    "\n",
    "    for i in range(cantidad_simulaciones):\n",
    "        suma_dados = random.randint(1, 6) + random.randint(1, 6)\n",
    "        if suma_dados == 7:\n",
    "            es_7 += 1\n",
    "        elif suma_dados == 11:\n",
    "            es_11 += 1\n",
    "\n",
    "    probabilidad_7 = es_7 / cantidad_simulaciones\n",
    "    probabilidad_11 = es_11 / cantidad_simulaciones\n",
    "\n",
    "    return probabilidad_7 / probabilidad_11\n",
    "\n",
    "respuesta = calculo_probabilidades(90)\n",
    "print(respuesta)"
   ]
  },
  {
   "cell_type": "markdown",
   "metadata": {},
   "source": [
    "7. Tenemos la siguientes función: \n"
   ]
  },
  {
   "cell_type": "code",
   "execution_count": 32,
   "metadata": {},
   "outputs": [],
   "source": [
    "def grado_escolar(edad):\n",
    "    \n",
    "    ''' calcula el grado escolar al que pertences segun tu edad\n",
    "    Input: \n",
    "    edad : int\n",
    "    output: tupla, compuestad de \n",
    "    grado: string\n",
    "    esp: especifico que grado\n",
    "    \n",
    "    '''\n",
    "    \n",
    "    if ((edad < 6) | (edad > 17)):\n",
    "        return \"No está en edad escolar\"\n",
    "    #assert edad > 5 & edad < 17\n",
    "    elif ((edad >=6) & (edad < 12)):\n",
    "        grado = \"Primaria\"\n",
    "        if edad == 6:\n",
    "            esp = \"1er grado\"\n",
    "        elif edad == 7:\n",
    "            esp = \"2do grado\"\n",
    "        elif edad == 8:\n",
    "            esp = \"3er grado\"\n",
    "        elif edad == 9:\n",
    "            esp = \"4to grado\"\n",
    "        elif edad == 10:\n",
    "            esp = \"5to grado\"\n",
    "        else:\n",
    "            esp = \"6to grado\"\n",
    "        \n",
    "    else:\n",
    "        grado = \"Secundaria\"\n",
    "        if edad == 12:\n",
    "            esp = \"1er año\"\n",
    "        elif edad == 13:\n",
    "            esp = \"2do año\"\n",
    "        elif edad == 14:\n",
    "            esp = \"3er año\"\n",
    "        elif edad == 15:\n",
    "            esp = \"4to año\"\n",
    "        else:\n",
    "            esp = \"5to año\"\n",
    "            \n",
    "    return grado, esp"
   ]
  },
  {
   "cell_type": "markdown",
   "metadata": {},
   "source": [
    "\n",
    "Asimismo, tenemos a 7 niños, que tienen las siguientes edades:   \n",
    "    `edades = [2, 4, 6, 7, 10, 15, 16]`  \n",
    "Queremos saber a qué grados/años van estos niños. Para ello, crea una lista vacía. En dicha lista almacenarás el resultado de dicha función para cada una de las edades de esta lista. Utiliza un for loop . \n",
    "\n",
    "Pista: Para familiarizarte con la función, puedes utilizarla con edades dentro del rango de edad escolar. \n",
    "    "
   ]
  },
  {
   "cell_type": "code",
   "execution_count": null,
   "metadata": {},
   "outputs": [],
   "source": [
    "# tu respuesta aquí"
   ]
  }
 ],
 "metadata": {
  "kernelspec": {
   "display_name": "Python 3 (ipykernel)",
   "language": "python",
   "name": "python3"
  },
  "language_info": {
   "codemirror_mode": {
    "name": "ipython",
    "version": 3
   },
   "file_extension": ".py",
   "mimetype": "text/x-python",
   "name": "python",
   "nbconvert_exporter": "python",
   "pygments_lexer": "ipython3",
   "version": "3.11.5"
  }
 },
 "nbformat": 4,
 "nbformat_minor": 4
}
